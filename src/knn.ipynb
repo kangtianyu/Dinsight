{
 "cells": [
  {
   "cell_type": "code",
   "execution_count": null,
   "metadata": {
    "collapsed": true
   },
   "outputs": [],
   "source": [
    "# read text file and write to csv file\n",
    "import csv\n",
    "\n",
    "txt_file = r\"algebra_2005_2006_train.txt\"\n",
    "csv_file = r\"algebra_2005_2006_train.csv\"\n",
    "\n",
    "# use 'with' if the program isn't going to immediately terminate\n",
    "# so you don't leave files open\n",
    "# the 'b' is necessary on Windows\n",
    "# it prevents \\x1a, Ctrl-z, from ending the stream prematurely\n",
    "# and also stops Python converting to / from different line terminators\n",
    "# On other platforms, it has no effect\n",
    "in_txt = csv.reader(open(txt_file, \"rb\"), delimiter = '\\t')\n",
    "out_csv = csv.writer(open(csv_file, 'wb'))\n",
    "\n",
    "out_csv.writerows(in_txt)"
   ]
  },
  {
   "cell_type": "code",
   "execution_count": null,
   "metadata": {
    "collapsed": true
   },
   "outputs": [],
   "source": [
    "import pandas as pd\n",
    "df = pd.read_csv('algebra_2005_2006_train.csv')"
   ]
  },
  {
   "cell_type": "code",
   "execution_count": null,
   "metadata": {
    "collapsed": true
   },
   "outputs": [],
   "source": [
    "# count number of students\n",
    "g = df.groupby('Anon Student Id')\n",
    "d = g.aggregate(len)\n",
    "print d.reset_index()"
   ]
  },
  {
   "cell_type": "code",
   "execution_count": null,
   "metadata": {
    "collapsed": true
   },
   "outputs": [],
   "source": [
    "#X_original.csv is a csv file with Student ID, Step Name, Correct First temp, these three columns\n",
    "X = pd.read_csv('X_original.csv')"
   ]
  },
  {
   "cell_type": "code",
   "execution_count": null,
   "metadata": {
    "collapsed": true
   },
   "outputs": [],
   "source": [
    "#Map student id literals to numbers\n",
    "cat = 'Anon Student Id'\n",
    "studentIDs = list(set(X[cat]))\n",
    "print len(studentIDs)\n",
    "studentID_dict = {}\n",
    "for idx,studentID in enumerate(studentIDs):\n",
    "    studentID_dict[idx] = studentID\n",
    "    X.loc[X[cat] == studentID,cat] = idx"
   ]
  },
  {
   "cell_type": "code",
   "execution_count": null,
   "metadata": {
    "collapsed": true
   },
   "outputs": [],
   "source": [
    "#Save mapped result to csv file\n",
    "X.to_csv('X1.csv')\n",
    "\n",
    "X1 = pd.read_csv('X1.csv')"
   ]
  },
  {
   "cell_type": "code",
   "execution_count": null,
   "metadata": {
    "collapsed": true
   },
   "outputs": [],
   "source": [
    "# Map Step Name to numbers\n",
    "cat = 'Step Name'\n",
    "steps = list(set(X1[cat]))\n",
    "step_dict = {}\n",
    "for idx,step in enumerate(steps):    \n",
    "    step_dict[step] = idx\n",
    "    #X.loc[X[cat] == step,cat] = idx\n",
    "for i in range(len(X1.index)):\n",
    "    step = X1.iloc[i][cat]\n",
    "    X1.set_value(i, cat, step_dict[step])\n",
    "    #X.set_value(i, cat, step_dict.get(step))"
   ]
  },
  {
   "cell_type": "code",
   "execution_count": null,
   "metadata": {
    "collapsed": true
   },
   "outputs": [],
   "source": [
    "X1.to_csv('X2.csv')\n",
    "#In X2.csv, both Student ID and Step Names are mapped to numbers\n",
    "X2 = pd.read_csv('X2.csv')"
   ]
  },
  {
   "cell_type": "code",
   "execution_count": null,
   "metadata": {
    "collapsed": true
   },
   "outputs": [],
   "source": [
    "from sklearn.neighbors import KNeighborsClassifier"
   ]
  },
  {
   "cell_type": "code",
   "execution_count": null,
   "metadata": {
    "collapsed": true
   },
   "outputs": [],
   "source": [
    "#Method to do KNN classification\n",
    "def knnClassify(trainData,trainLabel,testData, n_neighbors):   \n",
    "    knnClf=KNeighborsClassifier(n_neighbors)#default:k = 5,defined by yourself:KNeighborsClassifier(n_neighbors=10)  \n",
    "    knnClf.fit(trainData,trainLabel)  \n",
    "    testLabel=knnClf.predict(testData)  \n",
    "    # saveResult(testLabel,'sklearn_knn_Result.csv')\n",
    "    return testLabel "
   ]
  },
  {
   "cell_type": "code",
   "execution_count": null,
   "metadata": {
    "collapsed": true
   },
   "outputs": [],
   "source": [
    "#X2Features.csv has two columns, Student ID and Step Name\n",
    "#X2Label.csv has one column, the corresponding label\n",
    "trainData = pd.read_csv('X2Features.csv')\n",
    "X2Lable = pd.read_csv('X2Label.csv')\n",
    "trainLabel = X2Lable[X2Lable.columns[1]]\n",
    "testData = trainData\n",
    "trainLabel.shape"
   ]
  },
  {
   "cell_type": "code",
   "execution_count": null,
   "metadata": {
    "collapsed": true
   },
   "outputs": [],
   "source": [
    "n_neighbors = 55\n",
    "weights = 'uniform'\n",
    "#To do prediction\n",
    "predict = knnClassify(trainData, trainLabel, testData, n_neighbors, weights)"
   ]
  },
  {
   "cell_type": "code",
   "execution_count": null,
   "metadata": {
    "collapsed": true
   },
   "outputs": [],
   "source": [
    "from sklearn.metrics import mean_squared_error\n",
    "#RMSE\n",
    "rmse = np.sqrt(mean_squared_error(predict, trainLabel))\n",
    "print rmse"
   ]
  },
  {
   "cell_type": "code",
   "execution_count": null,
   "metadata": {
    "collapsed": true
   },
   "outputs": [],
   "source": [
    "np.savetxt(\"sklearn_knn_Result_distance.csv\", predict, delimiter=\",\")"
   ]
  }
 ],
 "metadata": {
  "kernelspec": {
   "display_name": "Python 2",
   "language": "python",
   "name": "python2"
  },
  "language_info": {
   "codemirror_mode": {
    "name": "ipython",
    "version": 2
   },
   "file_extension": ".py",
   "mimetype": "text/x-python",
   "name": "python",
   "nbconvert_exporter": "python",
   "pygments_lexer": "ipython2",
   "version": "2.7.11"
  }
 },
 "nbformat": 4,
 "nbformat_minor": 0
}
